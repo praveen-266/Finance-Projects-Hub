{
 "cells": [
  {
   "cell_type": "markdown",
   "metadata": {},
   "source": [
    "# investpy - Financial Data Retrieval from Investing.com\n",
    "\n",
    "[investpy](https://github.com/alvarobartt/investpy/tree/developer) is an Open Source Python package to retrieve financial data from Investing.com which is a popular finanacial/economic website used by traders, data analysts, etc.\n",
    "\n",
    "Along this notebook some of the most used/relevant features that investpy offers will be explained so as to share it with all the Kagglers that visit this Notebook.\n",
    "\n",
    "All the source code can be found at https://github.com/alvarobartt/investpy/tree/developer, and you can follow me at: https://github.com/alvarobartt"
   ]
  },
  {
   "cell_type": "markdown",
   "metadata": {},
   "source": [
    "![investpy logo](https://raw.githubusercontent.com/alvarobartt/investpy/master/docs/investpy_logo.png)"
   ]
  },
  {
   "cell_type": "markdown",
   "metadata": {},
   "source": [
    "## Installation\n",
    "\n",
    "Currently, investpy is almost on 1.0 release, but the most updated and operative version is being developed under the developer branch.\n",
    "\n",
    "So on, along this tutorial the developer version of investpy will be used, until the stable release comes out, which you can easily install using the following command:\n",
    "\n",
    "``$ pip install git+https://github.com/alvarobartt/investpy.git@developer``"
   ]
  },
  {
   "cell_type": "code",
   "execution_count": 1,
   "metadata": {},
   "outputs": [
    {
     "name": "stdout",
     "output_type": "stream",
     "text": [
      "Collecting git+https://github.com/alvarobartt/investpy.git@developer\r\n",
      "  Cloning https://github.com/alvarobartt/investpy.git (to revision developer) to /tmp/pip-req-build-5nh4q89k\r\n",
      "  Running command git clone -q https://github.com/alvarobartt/investpy.git /tmp/pip-req-build-5nh4q89k\r\n",
      "  Running command git checkout -b developer --track origin/developer\r\n",
      "  Switched to a new branch 'developer'\r\n",
      "  Branch 'developer' set up to track remote branch 'developer' from 'origin'.\r\n",
      "Requirement already satisfied: Unidecode>=1.1.1 in /opt/conda/lib/python3.7/site-packages (from investpy==1.0) (1.1.1)\r\n",
      "Requirement already satisfied: setuptools>=41.2.0 in /opt/conda/lib/python3.7/site-packages (from investpy==1.0) (46.1.3.post20200325)\r\n",
      "Requirement already satisfied: numpy>=1.17.2 in /opt/conda/lib/python3.7/site-packages (from investpy==1.0) (1.18.1)\r\n",
      "Requirement already satisfied: pandas>=0.25.1 in /opt/conda/lib/python3.7/site-packages (from investpy==1.0) (1.0.3)\r\n",
      "Requirement already satisfied: lxml>=4.4.1 in /opt/conda/lib/python3.7/site-packages (from investpy==1.0) (4.5.0)\r\n",
      "Requirement already satisfied: requests>=2.22.0 in /opt/conda/lib/python3.7/site-packages (from investpy==1.0) (2.23.0)\r\n",
      "Requirement already satisfied: pytz>=2019.3 in /opt/conda/lib/python3.7/site-packages (from investpy==1.0) (2019.3)\r\n",
      "Requirement already satisfied: python-dateutil>=2.6.1 in /opt/conda/lib/python3.7/site-packages (from pandas>=0.25.1->investpy==1.0) (2.8.1)\r\n",
      "Requirement already satisfied: chardet<4,>=3.0.2 in /opt/conda/lib/python3.7/site-packages (from requests>=2.22.0->investpy==1.0) (3.0.4)\r\n",
      "Requirement already satisfied: certifi>=2017.4.17 in /opt/conda/lib/python3.7/site-packages (from requests>=2.22.0->investpy==1.0) (2020.4.5.1)\r\n",
      "Requirement already satisfied: idna<3,>=2.5 in /opt/conda/lib/python3.7/site-packages (from requests>=2.22.0->investpy==1.0) (2.9)\r\n",
      "Requirement already satisfied: urllib3!=1.25.0,!=1.25.1,<1.26,>=1.21.1 in /opt/conda/lib/python3.7/site-packages (from requests>=2.22.0->investpy==1.0) (1.24.3)\r\n",
      "Requirement already satisfied: six>=1.5 in /opt/conda/lib/python3.7/site-packages (from python-dateutil>=2.6.1->pandas>=0.25.1->investpy==1.0) (1.14.0)\r\n",
      "Building wheels for collected packages: investpy\r\n",
      "  Building wheel for investpy (setup.py) ... \u001b[?25l-\b \b\\\b \b|\b \b/\b \b-\b \b\\\b \b|\b \bdone\r\n",
      "\u001b[?25h  Created wheel for investpy: filename=investpy-1.0-py3-none-any.whl size=5692212 sha256=f905936a19c0c19c7995952063cbbe6751b5a456a4476750662851b345dd11e7\r\n",
      "  Stored in directory: /tmp/pip-ephem-wheel-cache-eb3x7auu/wheels/57/f7/3e/4d84581c992fa4a54a54494e04cbb28ecad12ed43f20c305b9\r\n",
      "Successfully built investpy\r\n",
      "Installing collected packages: investpy\r\n",
      "Successfully installed investpy-1.0\r\n"
     ]
    }
   ],
   "source": [
    "!pip install git+https://github.com/alvarobartt/investpy.git@developer"
   ]
  },
  {
   "cell_type": "code",
   "execution_count": 2,
   "metadata": {},
   "outputs": [],
   "source": [
    "import investpy"
   ]
  },
  {
   "cell_type": "markdown",
   "metadata": {},
   "source": [
    "## Recent/Historical Data\n",
    "\n",
    "As some of you may already know, the most used feature is the extraction of both recent and historical data from different financial products, since this data is usually used to analyze market trends, predict the closing price, etc.\n",
    "\n",
    "investpy integrates some of the static data provided by Investing.com which is also stored as static among investpy files, this is made due to a listing error on Investing.com, since the provided listings sometimes contain format errors, missing data, wrong labeled data, etc.\n",
    "\n",
    "This means that some financial products may not be found using any of the presented functions below, but later we will also explain how to retrieve all the Investing.com that does not seem to be available in investpy."
   ]
  },
  {
   "cell_type": "markdown",
   "metadata": {},
   "source": [
    "### Recent Data\n",
    "\n",
    "To retrieve recent data you can simple use the following function structure `investpy.get_X_recent_data()`, where X can be any financial product type among all the ones available at Investing.com. So on, that means that X can be replaced by any of the following values: `stock, fund, etf, index, bond, currency_cross, crypto, commodity and certificate`. This function contains 2 mandatory parameters which are the financial product identifier and the country (is applicable).\n",
    "\n",
    "The example provided below will be the most common one, which is Stocks. Also, note that if you have any doubt about the usage of all the different params of every function you can check the [investpy - API Referece](https://investpy.readthedocs.io/api.html) or use the command `help(investpy.function_name)`."
   ]
  },
  {
   "cell_type": "code",
   "execution_count": 3,
   "metadata": {},
   "outputs": [
    {
     "data": {
      "text/html": [
       "<div>\n",
       "<style scoped>\n",
       "    .dataframe tbody tr th:only-of-type {\n",
       "        vertical-align: middle;\n",
       "    }\n",
       "\n",
       "    .dataframe tbody tr th {\n",
       "        vertical-align: top;\n",
       "    }\n",
       "\n",
       "    .dataframe thead th {\n",
       "        text-align: right;\n",
       "    }\n",
       "</style>\n",
       "<table border=\"1\" class=\"dataframe\">\n",
       "  <thead>\n",
       "    <tr style=\"text-align: right;\">\n",
       "      <th></th>\n",
       "      <th>Open</th>\n",
       "      <th>High</th>\n",
       "      <th>Low</th>\n",
       "      <th>Close</th>\n",
       "      <th>Volume</th>\n",
       "      <th>Currency</th>\n",
       "    </tr>\n",
       "    <tr>\n",
       "      <th>Date</th>\n",
       "      <th></th>\n",
       "      <th></th>\n",
       "      <th></th>\n",
       "      <th></th>\n",
       "      <th></th>\n",
       "      <th></th>\n",
       "    </tr>\n",
       "  </thead>\n",
       "  <tbody>\n",
       "    <tr>\n",
       "      <th>2020-05-18</th>\n",
       "      <td>312.96</td>\n",
       "      <td>316.50</td>\n",
       "      <td>310.35</td>\n",
       "      <td>314.96</td>\n",
       "      <td>33843124</td>\n",
       "      <td>USD</td>\n",
       "    </tr>\n",
       "    <tr>\n",
       "      <th>2020-05-19</th>\n",
       "      <td>315.03</td>\n",
       "      <td>318.51</td>\n",
       "      <td>313.09</td>\n",
       "      <td>313.14</td>\n",
       "      <td>25432384</td>\n",
       "      <td>USD</td>\n",
       "    </tr>\n",
       "    <tr>\n",
       "      <th>2020-05-20</th>\n",
       "      <td>316.63</td>\n",
       "      <td>319.52</td>\n",
       "      <td>316.37</td>\n",
       "      <td>319.23</td>\n",
       "      <td>27876216</td>\n",
       "      <td>USD</td>\n",
       "    </tr>\n",
       "    <tr>\n",
       "      <th>2020-05-21</th>\n",
       "      <td>318.65</td>\n",
       "      <td>320.87</td>\n",
       "      <td>315.87</td>\n",
       "      <td>316.85</td>\n",
       "      <td>25672212</td>\n",
       "      <td>USD</td>\n",
       "    </tr>\n",
       "    <tr>\n",
       "      <th>2020-05-22</th>\n",
       "      <td>315.98</td>\n",
       "      <td>319.10</td>\n",
       "      <td>315.41</td>\n",
       "      <td>318.89</td>\n",
       "      <td>20450754</td>\n",
       "      <td>USD</td>\n",
       "    </tr>\n",
       "  </tbody>\n",
       "</table>\n",
       "</div>"
      ],
      "text/plain": [
       "              Open    High     Low   Close    Volume Currency\n",
       "Date                                                         \n",
       "2020-05-18  312.96  316.50  310.35  314.96  33843124      USD\n",
       "2020-05-19  315.03  318.51  313.09  313.14  25432384      USD\n",
       "2020-05-20  316.63  319.52  316.37  319.23  27876216      USD\n",
       "2020-05-21  318.65  320.87  315.87  316.85  25672212      USD\n",
       "2020-05-22  315.98  319.10  315.41  318.89  20450754      USD"
      ]
     },
     "execution_count": 3,
     "metadata": {},
     "output_type": "execute_result"
    }
   ],
   "source": [
    "recent_data = investpy.get_stock_recent_data(stock='AAPL', country='United States')\n",
    "\n",
    "recent_data.head()"
   ]
  },
  {
   "cell_type": "markdown",
   "metadata": {},
   "source": [
    "### Historical Data\n",
    "\n",
    "This function is similar to the recent data retrieval function mentioned above, but changing the function name template to `investpy.get_X_historical_data()` and including the parameters `from_date` and `to_date`, so as to specify the date range of the data to retrieve as long as Investing.com contains that data.\n",
    "\n",
    "Note that the date is formatted as `dd/mm/YYYY`, so please take it into consideration; also note that the parameters date format does not affect to the resulting `pandas.DataFrame` which returns the Date column as a DateTime object, which is presented using the format `YYYY-mm-dd`."
   ]
  },
  {
   "cell_type": "code",
   "execution_count": 4,
   "metadata": {},
   "outputs": [
    {
     "data": {
      "text/html": [
       "<div>\n",
       "<style scoped>\n",
       "    .dataframe tbody tr th:only-of-type {\n",
       "        vertical-align: middle;\n",
       "    }\n",
       "\n",
       "    .dataframe tbody tr th {\n",
       "        vertical-align: top;\n",
       "    }\n",
       "\n",
       "    .dataframe thead th {\n",
       "        text-align: right;\n",
       "    }\n",
       "</style>\n",
       "<table border=\"1\" class=\"dataframe\">\n",
       "  <thead>\n",
       "    <tr style=\"text-align: right;\">\n",
       "      <th></th>\n",
       "      <th>Open</th>\n",
       "      <th>High</th>\n",
       "      <th>Low</th>\n",
       "      <th>Close</th>\n",
       "      <th>Volume</th>\n",
       "      <th>Currency</th>\n",
       "    </tr>\n",
       "    <tr>\n",
       "      <th>Date</th>\n",
       "      <th></th>\n",
       "      <th></th>\n",
       "      <th></th>\n",
       "      <th></th>\n",
       "      <th></th>\n",
       "      <th></th>\n",
       "    </tr>\n",
       "  </thead>\n",
       "  <tbody>\n",
       "    <tr>\n",
       "      <th>2019-01-02</th>\n",
       "      <td>154.89</td>\n",
       "      <td>158.85</td>\n",
       "      <td>154.23</td>\n",
       "      <td>157.92</td>\n",
       "      <td>37039736</td>\n",
       "      <td>USD</td>\n",
       "    </tr>\n",
       "    <tr>\n",
       "      <th>2019-01-03</th>\n",
       "      <td>143.98</td>\n",
       "      <td>145.72</td>\n",
       "      <td>142.00</td>\n",
       "      <td>142.19</td>\n",
       "      <td>91312192</td>\n",
       "      <td>USD</td>\n",
       "    </tr>\n",
       "    <tr>\n",
       "      <th>2019-01-04</th>\n",
       "      <td>144.53</td>\n",
       "      <td>148.55</td>\n",
       "      <td>143.80</td>\n",
       "      <td>148.26</td>\n",
       "      <td>58607072</td>\n",
       "      <td>USD</td>\n",
       "    </tr>\n",
       "    <tr>\n",
       "      <th>2019-01-07</th>\n",
       "      <td>148.70</td>\n",
       "      <td>148.83</td>\n",
       "      <td>145.90</td>\n",
       "      <td>147.93</td>\n",
       "      <td>54777764</td>\n",
       "      <td>USD</td>\n",
       "    </tr>\n",
       "    <tr>\n",
       "      <th>2019-01-08</th>\n",
       "      <td>149.56</td>\n",
       "      <td>151.82</td>\n",
       "      <td>148.52</td>\n",
       "      <td>150.75</td>\n",
       "      <td>41025312</td>\n",
       "      <td>USD</td>\n",
       "    </tr>\n",
       "  </tbody>\n",
       "</table>\n",
       "</div>"
      ],
      "text/plain": [
       "              Open    High     Low   Close    Volume Currency\n",
       "Date                                                         \n",
       "2019-01-02  154.89  158.85  154.23  157.92  37039736      USD\n",
       "2019-01-03  143.98  145.72  142.00  142.19  91312192      USD\n",
       "2019-01-04  144.53  148.55  143.80  148.26  58607072      USD\n",
       "2019-01-07  148.70  148.83  145.90  147.93  54777764      USD\n",
       "2019-01-08  149.56  151.82  148.52  150.75  41025312      USD"
      ]
     },
     "execution_count": 4,
     "metadata": {},
     "output_type": "execute_result"
    }
   ],
   "source": [
    "historical_data = investpy.get_stock_historical_data(stock='AAPL', country='United States', from_date='01/01/2019', to_date='01/01/2020')\n",
    "\n",
    "historical_data.head()"
   ]
  },
  {
   "cell_type": "markdown",
   "metadata": {},
   "source": [
    "## Financial Product Information\n",
    "\n",
    "Also there is a function to retrieve any financial product information as presented at Investing.com, which contains values such as the year change, ratio, market cap, etc. Note that some fields may differ among different financial product types, since this information is adapted to each financial product type.\n",
    "\n",
    "So on, the function name template is: `investpy.get_X_information()` which also requires both the financial product identifier and the country (if applicable), and X can be replaced by the following financial product types: `stock, fund, etf, index, bond, crypto, commodity and certificate`."
   ]
  },
  {
   "cell_type": "code",
   "execution_count": 5,
   "metadata": {},
   "outputs": [
    {
     "data": {
      "text/plain": [
       "{'Stock Symbol': 'AAPL',\n",
       " 'Prev. Close': 352.08,\n",
       " 'Todays Range': '344.72 - 353.2',\n",
       " 'Revenue': 267980000000.00003,\n",
       " 'Open': 351.46,\n",
       " '52 wk Range': '192.58 - 354.71',\n",
       " 'EPS': 12.76,\n",
       " 'Volume': 41357182.0,\n",
       " 'Market Cap': 1530000000000.0,\n",
       " 'Dividend (Yield)': '3.28 (0.96%)',\n",
       " 'Average Vol. (3m)': 41877954.0,\n",
       " 'P/E Ratio': 27.6,\n",
       " 'Beta': 1.18,\n",
       " '1-Year Change': '81.59%',\n",
       " 'Shares Outstanding': 4334335000.0,\n",
       " 'Next Earnings Date': '28/07/2020'}"
      ]
     },
     "execution_count": 5,
     "metadata": {},
     "output_type": "execute_result"
    }
   ],
   "source": [
    "stock_information = investpy.get_stock_information(stock='AAPL', country='United States', as_json=True)\n",
    "\n",
    "stock_information"
   ]
  },
  {
   "cell_type": "markdown",
   "metadata": {},
   "source": [
    "## Search Data\n",
    "\n",
    "As already mentioned above, some Investing.com data may not be available using the standard data retrieval functions previously described, but indeed investpy contains the Investing.com Search Engine integrated, which means that any financial product found at Investing is available in investpy.\n",
    "\n",
    "This function solves a lot of errors related to missing data, which are not common, but can sometimes happen if the desired financial product is not listed among the investpy static files.\n",
    "\n",
    "The search function is `investpy.search_quotes()` which will be explained in detail below, since it may seem a little bit complex the first time you are using it."
   ]
  },
  {
   "cell_type": "code",
   "execution_count": 6,
   "metadata": {},
   "outputs": [],
   "source": [
    "search_results = investpy.search_quotes(text='Apple', products=['stocks'], countries=['United States'])"
   ]
  },
  {
   "cell_type": "markdown",
   "metadata": {},
   "source": [
    "So on, it returns a list of SearchObj class instances which contain all the retrieved entries for the introduced search query, so on, we will print all the search results inside a FOR loop. "
   ]
  },
  {
   "cell_type": "code",
   "execution_count": 7,
   "metadata": {},
   "outputs": [
    {
     "name": "stdout",
     "output_type": "stream",
     "text": [
      "{\"id_\": 6408, \"name\": \"Apple Inc\", \"symbol\": \"AAPL\", \"country\": \"united states\", \"tag\": \"/equities/apple-computer-inc\", \"pair_type\": \"stocks\", \"exchange\": \"NASDAQ\"}\n",
      "{\"id_\": 959642, \"name\": \"Apple Hospitality REIT Inc\", \"symbol\": \"APLE\", \"country\": \"united states\", \"tag\": \"/equities/apple-hospitality-reit-inc\", \"pair_type\": \"stocks\", \"exchange\": \"NYSE\"}\n",
      "{\"id_\": 51484, \"name\": \"Apple Rush Company\", \"symbol\": \"APRU\", \"country\": \"united states\", \"tag\": \"/equities/apple-rush-company\", \"pair_type\": \"stocks\", \"exchange\": \"OTC Markets\"}\n"
     ]
    }
   ],
   "source": [
    "for search_result in search_results:\n",
    "    print(search_result)"
   ]
  },
  {
   "cell_type": "markdown",
   "metadata": {},
   "source": [
    "Now we can just select the financial product we were looking for, or taking all the ones that we need to and proceed to retrieve both its OHLC data and its information, using the functions `retrieve_recent_data` & `retrieve_historical_data` and `retrieve_information`, respectively over the `SearchObj` class instance.\n",
    "\n",
    "In the example provided below we will just pop out the first result of the `search_results` list as it is our desired financial product (the one we were looking for)."
   ]
  },
  {
   "cell_type": "code",
   "execution_count": 8,
   "metadata": {},
   "outputs": [
    {
     "name": "stdout",
     "output_type": "stream",
     "text": [
      "{\"id_\": 6408, \"name\": \"Apple Inc\", \"symbol\": \"AAPL\", \"country\": \"united states\", \"tag\": \"/equities/apple-computer-inc\", \"pair_type\": \"stocks\", \"exchange\": \"NASDAQ\"}\n"
     ]
    }
   ],
   "source": [
    "search_result = search_results.pop(0)\n",
    "print(search_result)"
   ]
  },
  {
   "cell_type": "code",
   "execution_count": 9,
   "metadata": {},
   "outputs": [
    {
     "data": {
      "text/html": [
       "<div>\n",
       "<style scoped>\n",
       "    .dataframe tbody tr th:only-of-type {\n",
       "        vertical-align: middle;\n",
       "    }\n",
       "\n",
       "    .dataframe tbody tr th {\n",
       "        vertical-align: top;\n",
       "    }\n",
       "\n",
       "    .dataframe thead th {\n",
       "        text-align: right;\n",
       "    }\n",
       "</style>\n",
       "<table border=\"1\" class=\"dataframe\">\n",
       "  <thead>\n",
       "    <tr style=\"text-align: right;\">\n",
       "      <th></th>\n",
       "      <th>Open</th>\n",
       "      <th>High</th>\n",
       "      <th>Low</th>\n",
       "      <th>Close</th>\n",
       "      <th>Volume</th>\n",
       "    </tr>\n",
       "    <tr>\n",
       "      <th>Date</th>\n",
       "      <th></th>\n",
       "      <th></th>\n",
       "      <th></th>\n",
       "      <th></th>\n",
       "      <th></th>\n",
       "    </tr>\n",
       "  </thead>\n",
       "  <tbody>\n",
       "    <tr>\n",
       "      <th>2020-05-18</th>\n",
       "      <td>312.96</td>\n",
       "      <td>316.50</td>\n",
       "      <td>310.35</td>\n",
       "      <td>314.96</td>\n",
       "      <td>33843124</td>\n",
       "    </tr>\n",
       "    <tr>\n",
       "      <th>2020-05-19</th>\n",
       "      <td>315.03</td>\n",
       "      <td>318.51</td>\n",
       "      <td>313.09</td>\n",
       "      <td>313.14</td>\n",
       "      <td>25432384</td>\n",
       "    </tr>\n",
       "    <tr>\n",
       "      <th>2020-05-20</th>\n",
       "      <td>316.63</td>\n",
       "      <td>319.52</td>\n",
       "      <td>316.37</td>\n",
       "      <td>319.23</td>\n",
       "      <td>27876216</td>\n",
       "    </tr>\n",
       "    <tr>\n",
       "      <th>2020-05-21</th>\n",
       "      <td>318.65</td>\n",
       "      <td>320.87</td>\n",
       "      <td>315.87</td>\n",
       "      <td>316.85</td>\n",
       "      <td>25672212</td>\n",
       "    </tr>\n",
       "    <tr>\n",
       "      <th>2020-05-22</th>\n",
       "      <td>315.98</td>\n",
       "      <td>319.10</td>\n",
       "      <td>315.41</td>\n",
       "      <td>318.89</td>\n",
       "      <td>20450754</td>\n",
       "    </tr>\n",
       "  </tbody>\n",
       "</table>\n",
       "</div>"
      ],
      "text/plain": [
       "              Open    High     Low   Close    Volume\n",
       "Date                                                \n",
       "2020-05-18  312.96  316.50  310.35  314.96  33843124\n",
       "2020-05-19  315.03  318.51  313.09  313.14  25432384\n",
       "2020-05-20  316.63  319.52  316.37  319.23  27876216\n",
       "2020-05-21  318.65  320.87  315.87  316.85  25672212\n",
       "2020-05-22  315.98  319.10  315.41  318.89  20450754"
      ]
     },
     "execution_count": 9,
     "metadata": {},
     "output_type": "execute_result"
    }
   ],
   "source": [
    "recent_data = search_result.retrieve_recent_data()\n",
    "\n",
    "recent_data.head()"
   ]
  },
  {
   "cell_type": "code",
   "execution_count": 10,
   "metadata": {},
   "outputs": [
    {
     "data": {
      "text/html": [
       "<div>\n",
       "<style scoped>\n",
       "    .dataframe tbody tr th:only-of-type {\n",
       "        vertical-align: middle;\n",
       "    }\n",
       "\n",
       "    .dataframe tbody tr th {\n",
       "        vertical-align: top;\n",
       "    }\n",
       "\n",
       "    .dataframe thead th {\n",
       "        text-align: right;\n",
       "    }\n",
       "</style>\n",
       "<table border=\"1\" class=\"dataframe\">\n",
       "  <thead>\n",
       "    <tr style=\"text-align: right;\">\n",
       "      <th></th>\n",
       "      <th>Open</th>\n",
       "      <th>High</th>\n",
       "      <th>Low</th>\n",
       "      <th>Close</th>\n",
       "      <th>Volume</th>\n",
       "    </tr>\n",
       "    <tr>\n",
       "      <th>Date</th>\n",
       "      <th></th>\n",
       "      <th></th>\n",
       "      <th></th>\n",
       "      <th></th>\n",
       "      <th></th>\n",
       "    </tr>\n",
       "  </thead>\n",
       "  <tbody>\n",
       "    <tr>\n",
       "      <th>2019-01-02</th>\n",
       "      <td>154.89</td>\n",
       "      <td>158.85</td>\n",
       "      <td>154.23</td>\n",
       "      <td>157.92</td>\n",
       "      <td>37039736</td>\n",
       "    </tr>\n",
       "    <tr>\n",
       "      <th>2019-01-03</th>\n",
       "      <td>143.98</td>\n",
       "      <td>145.72</td>\n",
       "      <td>142.00</td>\n",
       "      <td>142.19</td>\n",
       "      <td>91312192</td>\n",
       "    </tr>\n",
       "    <tr>\n",
       "      <th>2019-01-04</th>\n",
       "      <td>144.53</td>\n",
       "      <td>148.55</td>\n",
       "      <td>143.80</td>\n",
       "      <td>148.26</td>\n",
       "      <td>58607072</td>\n",
       "    </tr>\n",
       "    <tr>\n",
       "      <th>2019-01-07</th>\n",
       "      <td>148.70</td>\n",
       "      <td>148.83</td>\n",
       "      <td>145.90</td>\n",
       "      <td>147.93</td>\n",
       "      <td>54777764</td>\n",
       "    </tr>\n",
       "    <tr>\n",
       "      <th>2019-01-08</th>\n",
       "      <td>149.56</td>\n",
       "      <td>151.82</td>\n",
       "      <td>148.52</td>\n",
       "      <td>150.75</td>\n",
       "      <td>41025312</td>\n",
       "    </tr>\n",
       "  </tbody>\n",
       "</table>\n",
       "</div>"
      ],
      "text/plain": [
       "              Open    High     Low   Close    Volume\n",
       "Date                                                \n",
       "2019-01-02  154.89  158.85  154.23  157.92  37039736\n",
       "2019-01-03  143.98  145.72  142.00  142.19  91312192\n",
       "2019-01-04  144.53  148.55  143.80  148.26  58607072\n",
       "2019-01-07  148.70  148.83  145.90  147.93  54777764\n",
       "2019-01-08  149.56  151.82  148.52  150.75  41025312"
      ]
     },
     "execution_count": 10,
     "metadata": {},
     "output_type": "execute_result"
    }
   ],
   "source": [
    "historical_data = search_result.retrieve_historical_data(from_date='01/01/2019', to_date='01/01/2020')\n",
    "\n",
    "historical_data.head()"
   ]
  },
  {
   "cell_type": "code",
   "execution_count": 11,
   "metadata": {},
   "outputs": [
    {
     "data": {
      "text/plain": [
       "{'Prev. Close': 352.08,\n",
       " 'Todays Range': '344.72 - 353.2',\n",
       " 'Revenue': 267980000000.00003,\n",
       " 'Open': 351.46,\n",
       " '52 wk Range': '192.58 - 354.71',\n",
       " 'EPS': 12.76,\n",
       " 'Volume': 41357182,\n",
       " 'Market Cap': 1530000000000,\n",
       " 'Dividend (Yield)': '3.28 (0.96%)',\n",
       " 'Average Vol. (3m)': 41877954,\n",
       " 'P/E Ratio': 27.6,\n",
       " 'Beta': 1.18,\n",
       " '1-Year Change': '81.59%',\n",
       " 'Shares Outstanding': 4334335000,\n",
       " 'Next Earnings Date': 'Jul 28, 2020'}"
      ]
     },
     "execution_count": 11,
     "metadata": {},
     "output_type": "execute_result"
    }
   ],
   "source": [
    "stock_information = search_result.retrieve_information()\n",
    "\n",
    "stock_information"
   ]
  },
  {
   "cell_type": "markdown",
   "metadata": {},
   "source": [
    "As you may have noticed, the additional parameters `products` and `countries` have been used, which are some filters to apply to the search query, note that also `n_results` can be specified so as to set a limit of returned products. More information about the Search Engine can be found at [investpy - GitHub Wiki](https://github.com/alvarobartt/investpy/wiki/investpy.search_quotes())"
   ]
  },
  {
   "cell_type": "markdown",
   "metadata": {},
   "source": [
    "## Technical Indicators, Overview, Financial Summary and much more"
   ]
  },
  {
   "cell_type": "markdown",
   "metadata": {},
   "source": [
    "__Since a lot of functions are available in investpy, in the upcoming days those functions will also be explained in this Notebook, so make sure to upvote it to get notified from the newer versions that will come!__"
   ]
  },
  {
   "cell_type": "markdown",
   "metadata": {},
   "source": [
    "### Remember to star the repository at GitHub if you found it useful and follow me so as to get notified of all the updates and projects I upload! Thank you!"
   ]
  }
 ],
 "metadata": {
  "anaconda-cloud": {},
  "kernelspec": {
   "display_name": "Python 3 (ipykernel)",
   "language": "python",
   "name": "python3"
  },
  "language_info": {
   "codemirror_mode": {
    "name": "ipython",
    "version": 3
   },
   "file_extension": ".py",
   "mimetype": "text/x-python",
   "name": "python",
   "nbconvert_exporter": "python",
   "pygments_lexer": "ipython3",
   "version": "3.9.5"
  }
 },
 "nbformat": 4,
 "nbformat_minor": 4
}
